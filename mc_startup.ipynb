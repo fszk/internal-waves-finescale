{
 "cells": [
  {
   "cell_type": "code",
   "execution_count": 2,
   "metadata": {},
   "outputs": [],
   "source": [
    "import mat73\n",
    "from matplotlib import gridspec\n",
    "\n",
    "\n",
    "import numpy as np  #The basic python scientific package\n",
    "import netCDF4 as nc4\n",
    "import matplotlib.pyplot as plt #Simple visualisation package\n",
    "import seaborn as sns #Datascience visualisation package\n",
    "import pandas as pd #Datascience package for handling data\n",
    "from datetime import datetime\n",
    "from time import time\n",
    "\n",
    "from windrose import WindroseAxes\n",
    "import math\n",
    "import gsw\n",
    "import seawater as sw\n",
    "from pathlib import Path\n",
    "\n",
    "from scipy import stats\n",
    "from scipy.optimize import curve_fit\n",
    "\n",
    "from sklearn.linear_model import LinearRegression\n",
    "from sklearn.preprocessing import PolynomialFeatures\n",
    "from sklearn.metrics import mean_squared_error, r2_score\n",
    "\n",
    "from IPython.display import display, Math, Latex\n",
    "\n",
    "from scipy import signal\n",
    "\n",
    "from scipy.stats import t\n",
    "\n",
    "import random\n",
    "from random import randrange\n",
    "from pandas import Series\n",
    "from statsmodels.tsa.seasonal import seasonal_decompose\n",
    "\n",
    "LAT_MC = 40.80\n",
    "LON_MC = 14.25\n",
    "\n",
    "LAT_BC = 40.5\n",
    "LON_BC = 14.0\n",
    "\n",
    "LAT_TY = 39.25\n",
    "LON_TY = 13.5"
   ]
  },
  {
   "cell_type": "code",
   "execution_count": 1,
   "metadata": {},
   "outputs": [],
   "source": [
    "from pandas import read_csv\n",
    "from pandas.plotting import scatter_matrix\n",
    "from matplotlib import pyplot\n",
    "from sklearn.model_selection import train_test_split\n",
    "from sklearn.model_selection import cross_val_score\n",
    "from sklearn.model_selection import StratifiedKFold\n",
    "from sklearn.metrics import classification_report\n",
    "from sklearn.metrics import confusion_matrix\n",
    "from sklearn.metrics import accuracy_score\n",
    "from sklearn.linear_model import LogisticRegression\n",
    "from sklearn.tree import DecisionTreeClassifier\n",
    "from sklearn.neighbors import KNeighborsClassifier\n",
    "from sklearn.discriminant_analysis import LinearDiscriminantAnalysis\n",
    "from sklearn.naive_bayes import GaussianNB\n",
    "from sklearn.svm import SVC"
   ]
  },
  {
   "cell_type": "code",
   "execution_count": null,
   "metadata": {},
   "outputs": [],
   "source": []
  }
 ],
 "metadata": {
  "kernelspec": {
   "display_name": "Python 3",
   "language": "python",
   "name": "python3"
  },
  "language_info": {
   "codemirror_mode": {
    "name": "ipython",
    "version": 3
   },
   "file_extension": ".py",
   "mimetype": "text/x-python",
   "name": "python",
   "nbconvert_exporter": "python",
   "pygments_lexer": "ipython3",
   "version": "3.8.5"
  }
 },
 "nbformat": 4,
 "nbformat_minor": 4
}
