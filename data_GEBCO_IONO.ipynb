{
 "cells": [
  {
   "cell_type": "code",
   "execution_count": 13,
   "id": "b74726a7-2bd4-4ad5-a95d-f0bba456df0d",
   "metadata": {},
   "outputs": [
    {
     "name": "stdout",
     "output_type": "stream",
     "text": [
      "/Users/floriankokoszka/Desktop/notebooks\n"
     ]
    }
   ],
   "source": [
    "%cd /Users/floriankokoszka/Desktop/notebooks\n",
    "%pwd\n",
    "\n",
    "%run mc_startup.ipynb\n",
    "%run myfunctions.ipynb\n",
    "%run myfunctions_plus.ipynb"
   ]
  },
  {
   "cell_type": "code",
   "execution_count": 14,
   "id": "43d0c0c1-e1f2-4277-a1dc-56c0b8185ab3",
   "metadata": {},
   "outputs": [],
   "source": [
    "import warnings\n",
    "warnings.filterwarnings(\"ignore\", category=DeprecationWarning)"
   ]
  },
  {
   "cell_type": "code",
   "execution_count": 16,
   "id": "f6553e0d-92f8-400d-833c-e04464db19d9",
   "metadata": {},
   "outputs": [
    {
     "name": "stdout",
     "output_type": "stream",
     "text": [
      "/Users/floriankokoszka/Desktop/notebooks\n"
     ]
    }
   ],
   "source": [
    "%run data_KM3_Pi23.ipynb"
   ]
  },
  {
   "cell_type": "markdown",
   "id": "2e1f0a14-6073-453c-b6db-db786c1c0023",
   "metadata": {
    "jp-MarkdownHeadingCollapsed": true,
    "tags": []
   },
   "source": [
    "### italian coastline"
   ]
  },
  {
   "cell_type": "code",
   "execution_count": 9,
   "id": "57e8ea7f-0a42-4996-adc7-39abdee6176e",
   "metadata": {},
   "outputs": [],
   "source": [
    "url_ITcoast = 'https://raw.githubusercontent.com/nerea-observatory/internalwaves/main/data/coast/ITcoast.csv'\n",
    "ITcoast = pd.read_csv(url_ITcoast)"
   ]
  },
  {
   "cell_type": "markdown",
   "id": "9c18e325-b90c-4d2b-ab9a-feb802a48d61",
   "metadata": {
    "tags": []
   },
   "source": [
    "### G E B C O"
   ]
  },
  {
   "cell_type": "code",
   "execution_count": null,
   "id": "ae8e8ae3-5ae1-4fa8-8211-9fd51827ef97",
   "metadata": {},
   "outputs": [],
   "source": []
  },
  {
   "cell_type": "code",
   "execution_count": 18,
   "id": "a17af275-970c-4857-9841-08a22eb60841",
   "metadata": {},
   "outputs": [
    {
     "name": "stdout",
     "output_type": "stream",
     "text": [
      "z.shape  (2760, 3600)\n",
      "lon.shape  (3600,)\n",
      "lat.shape  (2760,)\n",
      "zz.shape  (1440, 1680)\n",
      "lon.shape  (1680,)\n",
      "lat.shape  (1440,)\n"
     ]
    }
   ],
   "source": [
    "ONELINE_OR_LOCAL = False\n",
    "\n",
    "if ONELINE_OR_LOCAL == True:\n",
    "    url_ITcoast = 'https://raw.githubusercontent.com/nerea-observatory/internalwaves/main/data/coast/ITcoast.csv'\n",
    "    url_latGEBCO = 'https://raw.githubusercontent.com/nerea-observatory/internalwaves/main/data/iono/gebco/latGEBCO.csv'\n",
    "    url_lonGEBCO = 'https://raw.githubusercontent.com/nerea-observatory/internalwaves/main/data/iono/gebco/lonGEBCO.csv'\n",
    "    url_zzGEBCO = 'https://raw.githubusercontent.com/nerea-observatory/internalwaves/main/data/iono/gebco/zzGEBCO.csv'\n",
    "\n",
    "    # https://github.com/fszk/data/blob/main/bathy/GEBCO/iono/latGEBCO.csv\n",
    "\n",
    "    ITcoast = pd.read_csv(url_ITcoast)\n",
    "    latGEBCO = pd.read_csv(url_latGEBCO)\n",
    "    lonGEBCO = pd.read_csv(url_lonGEBCO)\n",
    "    zzGEBCO  = pd.read_csv(url_zzGEBCO)\n",
    "    \n",
    "    lon = np.array(lonGEBCO).flatten()\n",
    "    lat = np.array(latGEBCO).flatten()\n",
    "    ZZ = np.array(zzGEBCO)\n",
    "    ZZ.shape\n",
    "\n",
    "else: \n",
    "    fn = 'gebco_2020_n42.0_s30.5_w9.0_e24.0.nc'\n",
    "    pth = '/Users/floriankokoszka/Desktop/data/gebco/GEBCO_2020_16_Mar_2021_8582f6a3ecab/'\n",
    "    f = nc4.Dataset(pth+fn, 'r')\n",
    "    z = np.array(f.variables['elevation'])\n",
    "    lon  = np.array(f.variables['lon'])\n",
    "    lat  = np.array(f.variables['lat'])\n",
    "    print('z.shape ',z.shape)\n",
    "    print('lon.shape ',lon.shape)\n",
    "    print('lat.shape ',lat.shape)\n",
    "\n",
    "\n",
    "    CADRE_GEO = [15,22,35,41]\n",
    "    flon = np.where((lon >= CADRE_GEO[0]) & (lon <= CADRE_GEO[1]) )[0]\n",
    "    flat = np.where((lat >= CADRE_GEO[2]) & (lat <= CADRE_GEO[3]) )[0]\n",
    "    lon = lon[flon]\n",
    "    lat = lat[flat]\n",
    "    zz = np.transpose(z[flat,flon[:,np.newaxis]])\n",
    "    print('zz.shape ',zz.shape)\n",
    "    print('lon.shape ',lon.shape)\n",
    "    print('lat.shape ',lat.shape)\n",
    "\n",
    "\n",
    "    lon = np.array(lon).flatten().astype(np.float64)\n",
    "    lat = np.array(lat).flatten().astype(np.float64)\n",
    "    ZZ = np.array(zz).astype(np.float64)"
   ]
  },
  {
   "cell_type": "code",
   "execution_count": 19,
   "id": "8abc8a50-aed5-4dc6-9690-268611d5ccfd",
   "metadata": {},
   "outputs": [
    {
     "name": "stdout",
     "output_type": "stream",
     "text": [
      "(1440, 1680) (1440, 1680) (1440, 1680)\n",
      "(1680,) (1440,)\n",
      "reduced 10 for plots\n",
      "(144, 168) (144, 168) (144, 168)\n"
     ]
    }
   ],
   "source": [
    "lonG = lon*1\n",
    "latG = lat*1\n",
    "ZZG = ZZ*1\n",
    "XXG, YYG = np.meshgrid(lon + np.nanmean(np.diff(lon))/2,lat + np.nanmean(np.diff(lat))/2)\n",
    "\n",
    "Nreduce = 10\n",
    "ZZG_R = ZZ[np.arange(0,len(lat),Nreduce),:][:,np.arange(0,len(lon),Nreduce)]\n",
    "lonR = lon[np.arange(0,len(lon),Nreduce)]\n",
    "latR = lat[np.arange(0,len(lat),Nreduce)]\n",
    "XXG_R, YYG_R = np.meshgrid(lonR + np.nanmean(np.diff(lonR))/2,latR + np.nanmean(np.diff(latR))/2)\n",
    "\n",
    "print(XXG.shape,YYG.shape,ZZG.shape)\n",
    "print(lonG.shape, latG.shape)\n",
    "print('reduced 10 for plots')\n",
    "print(XXG_R.shape,YYG_R.shape,ZZG_R.shape)"
   ]
  },
  {
   "cell_type": "code",
   "execution_count": 17,
   "id": "5a9b645f-2b4b-4cc9-8bb7-f13cecbe13bf",
   "metadata": {},
   "outputs": [
    {
     "name": "stdout",
     "output_type": "stream",
     "text": [
      "G E  B   C    O\n"
     ]
    }
   ],
   "source": [
    "print('G E  B   C    O')"
   ]
  },
  {
   "cell_type": "code",
   "execution_count": null,
   "id": "526b63bc-a0c4-44a2-8001-a3636183cde8",
   "metadata": {},
   "outputs": [],
   "source": []
  }
 ],
 "metadata": {
  "kernelspec": {
   "display_name": "Python 3",
   "language": "python",
   "name": "python3"
  },
  "language_info": {
   "codemirror_mode": {
    "name": "ipython",
    "version": 3
   },
   "file_extension": ".py",
   "mimetype": "text/x-python",
   "name": "python",
   "nbconvert_exporter": "python",
   "pygments_lexer": "ipython3",
   "version": "3.8.5"
  }
 },
 "nbformat": 4,
 "nbformat_minor": 5
}
