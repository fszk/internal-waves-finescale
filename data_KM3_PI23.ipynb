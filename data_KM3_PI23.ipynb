{
 "cells": [
  {
   "cell_type": "code",
   "execution_count": 1,
   "id": "923ed6e5-51bf-4120-9ab7-f381bc53ab52",
   "metadata": {},
   "outputs": [
    {
     "name": "stdout",
     "output_type": "stream",
     "text": [
      "/Users/floriankokoszka/Desktop/notebooks\n"
     ]
    }
   ],
   "source": [
    "%cd /Users/floriankokoszka/Desktop/notebooks\n",
    "%pwd\n",
    "\n",
    "%run mc_startup.ipynb\n",
    "%run myfunctions.ipynb\n",
    "%run myfunctions_plus.ipynb"
   ]
  },
  {
   "cell_type": "code",
   "execution_count": 2,
   "id": "ac656fba-781c-47b1-9ea6-a2273d476f96",
   "metadata": {},
   "outputs": [],
   "source": [
    "import numpy as np\n",
    "import netCDF4 as nc4\n",
    "from netCDF4 import Dataset"
   ]
  },
  {
   "cell_type": "code",
   "execution_count": 3,
   "id": "a6986fc7-129d-45ec-8f05-b7aeede5e0e4",
   "metadata": {},
   "outputs": [],
   "source": [
    "## netcdfile nested from\n",
    "## make_netcdf_data_KM3_PI23.ipynb"
   ]
  },
  {
   "cell_type": "code",
   "execution_count": 4,
   "id": "20719717-1852-45d6-bdb2-8b51e2e0ebbc",
   "metadata": {},
   "outputs": [],
   "source": [
    "filename = '/Users/floriankokoszka/Desktop/PIONEERMIX/clean/data/data_KM3_PI23.nc'"
   ]
  },
  {
   "cell_type": "code",
   "execution_count": 5,
   "id": "3491ff43-ec27-4403-ba2a-90339ecb97a6",
   "metadata": {},
   "outputs": [],
   "source": [
    "f = nc4.Dataset(filename, 'r')\n"
   ]
  },
  {
   "cell_type": "code",
   "execution_count": 6,
   "id": "9d7a447d-0f63-4a94-b2f2-de52000056ba",
   "metadata": {},
   "outputs": [
    {
     "data": {
      "text/plain": [
       "<class 'netCDF4._netCDF4.Dataset'>\n",
       "root group (NETCDF4 data model, file format HDF5):\n",
       "    description: CTD and LADCP data from KM3 and PI23 cruises\n",
       "    history: Extraction of paired CTD-LADCP profiles to be used in the iw parameterization \n",
       "    dimensions(sizes): depth(5000), stations(63)\n",
       "    variables(dimensions): <class 'str'> sta(stations), <class 'str'> dt(stations), float32 ts(stations), float32 btd(stations), float32 lon(stations), float32 lat(stations), float32 P(depth,stations), float32 D(depth,stations), float32 T(depth,stations), float32 C(depth,stations), float32 S(depth,stations), float32 CT(depth,stations), float32 SA(depth,stations), float32 SIG0(depth,stations), float32 N2(depth,stations), float32 N22(depth,stations), float32 U(depth,stations), float32 V(depth,stations), float32 Uerr(depth,stations), float32 Ubot(depth,stations), float32 Vbot(depth,stations), float32 Uerrbot(depth,stations)\n",
       "    groups: "
      ]
     },
     "execution_count": 6,
     "metadata": {},
     "output_type": "execute_result"
    }
   ],
   "source": [
    "f"
   ]
  },
  {
   "cell_type": "code",
   "execution_count": 7,
   "id": "7483cb4f-f881-421b-85b8-1d0b9a77c231",
   "metadata": {},
   "outputs": [
    {
     "name": "stderr",
     "output_type": "stream",
     "text": [
      "<ipython-input-7-2ea68b924ea4>:3: DeprecationWarning: `np.bool` is a deprecated alias for the builtin `bool`. To silence this warning, use `bool` by itself. Doing this will not modify any behavior and is safe. If you specifically wanted the numpy scalar type, use `np.bool_` here.\n",
      "Deprecated in NumPy 1.20; for more details and guidance: https://numpy.org/devdocs/release/1.20.0-notes.html#deprecations\n",
      "  ts = np.array(f.variables['ts'])\n",
      "<ipython-input-7-2ea68b924ea4>:4: DeprecationWarning: `np.bool` is a deprecated alias for the builtin `bool`. To silence this warning, use `bool` by itself. Doing this will not modify any behavior and is safe. If you specifically wanted the numpy scalar type, use `np.bool_` here.\n",
      "Deprecated in NumPy 1.20; for more details and guidance: https://numpy.org/devdocs/release/1.20.0-notes.html#deprecations\n",
      "  lon = np.array(f.variables['lon'])\n",
      "<ipython-input-7-2ea68b924ea4>:5: DeprecationWarning: `np.bool` is a deprecated alias for the builtin `bool`. To silence this warning, use `bool` by itself. Doing this will not modify any behavior and is safe. If you specifically wanted the numpy scalar type, use `np.bool_` here.\n",
      "Deprecated in NumPy 1.20; for more details and guidance: https://numpy.org/devdocs/release/1.20.0-notes.html#deprecations\n",
      "  lat = np.array(f.variables['lat'])\n",
      "<ipython-input-7-2ea68b924ea4>:6: DeprecationWarning: `np.bool` is a deprecated alias for the builtin `bool`. To silence this warning, use `bool` by itself. Doing this will not modify any behavior and is safe. If you specifically wanted the numpy scalar type, use `np.bool_` here.\n",
      "Deprecated in NumPy 1.20; for more details and guidance: https://numpy.org/devdocs/release/1.20.0-notes.html#deprecations\n",
      "  btd = np.array(f.variables['btd'])\n"
     ]
    }
   ],
   "source": [
    "sta = np.array(f.variables['sta'])\n",
    "dt = np.array(f.variables['dt'])\n",
    "ts = np.array(f.variables['ts'])\n",
    "lon = np.array(f.variables['lon'])\n",
    "lat = np.array(f.variables['lat'])\n",
    "btd = np.array(f.variables['btd'])"
   ]
  },
  {
   "cell_type": "code",
   "execution_count": 10,
   "id": "ec126e14-06d2-4330-b4d6-c25d0eee726b",
   "metadata": {},
   "outputs": [
    {
     "data": {
      "text/plain": [
       "(63,)"
      ]
     },
     "execution_count": 10,
     "metadata": {},
     "output_type": "execute_result"
    }
   ],
   "source": [
    "\n",
    "dt.shape"
   ]
  },
  {
   "cell_type": "code",
   "execution_count": 11,
   "id": "43cdacd7-c399-489a-bf3c-eec7ed42d767",
   "metadata": {},
   "outputs": [
    {
     "name": "stderr",
     "output_type": "stream",
     "text": [
      "<ipython-input-11-4c3b0ab60a8c>:1: DeprecationWarning: `np.bool` is a deprecated alias for the builtin `bool`. To silence this warning, use `bool` by itself. Doing this will not modify any behavior and is safe. If you specifically wanted the numpy scalar type, use `np.bool_` here.\n",
      "Deprecated in NumPy 1.20; for more details and guidance: https://numpy.org/devdocs/release/1.20.0-notes.html#deprecations\n",
      "  P = np.array(f.variables['P'])\n",
      "<ipython-input-11-4c3b0ab60a8c>:2: DeprecationWarning: `np.bool` is a deprecated alias for the builtin `bool`. To silence this warning, use `bool` by itself. Doing this will not modify any behavior and is safe. If you specifically wanted the numpy scalar type, use `np.bool_` here.\n",
      "Deprecated in NumPy 1.20; for more details and guidance: https://numpy.org/devdocs/release/1.20.0-notes.html#deprecations\n",
      "  D = np.array(f.variables['D'])\n",
      "<ipython-input-11-4c3b0ab60a8c>:3: DeprecationWarning: `np.bool` is a deprecated alias for the builtin `bool`. To silence this warning, use `bool` by itself. Doing this will not modify any behavior and is safe. If you specifically wanted the numpy scalar type, use `np.bool_` here.\n",
      "Deprecated in NumPy 1.20; for more details and guidance: https://numpy.org/devdocs/release/1.20.0-notes.html#deprecations\n",
      "  T = np.array(f.variables['T'])\n",
      "<ipython-input-11-4c3b0ab60a8c>:4: DeprecationWarning: `np.bool` is a deprecated alias for the builtin `bool`. To silence this warning, use `bool` by itself. Doing this will not modify any behavior and is safe. If you specifically wanted the numpy scalar type, use `np.bool_` here.\n",
      "Deprecated in NumPy 1.20; for more details and guidance: https://numpy.org/devdocs/release/1.20.0-notes.html#deprecations\n",
      "  C = np.array(f.variables['C'])\n",
      "<ipython-input-11-4c3b0ab60a8c>:5: DeprecationWarning: `np.bool` is a deprecated alias for the builtin `bool`. To silence this warning, use `bool` by itself. Doing this will not modify any behavior and is safe. If you specifically wanted the numpy scalar type, use `np.bool_` here.\n",
      "Deprecated in NumPy 1.20; for more details and guidance: https://numpy.org/devdocs/release/1.20.0-notes.html#deprecations\n",
      "  S = np.array(f.variables['S'])\n",
      "<ipython-input-11-4c3b0ab60a8c>:6: DeprecationWarning: `np.bool` is a deprecated alias for the builtin `bool`. To silence this warning, use `bool` by itself. Doing this will not modify any behavior and is safe. If you specifically wanted the numpy scalar type, use `np.bool_` here.\n",
      "Deprecated in NumPy 1.20; for more details and guidance: https://numpy.org/devdocs/release/1.20.0-notes.html#deprecations\n",
      "  CT = np.array(f.variables['CT'])\n",
      "<ipython-input-11-4c3b0ab60a8c>:7: DeprecationWarning: `np.bool` is a deprecated alias for the builtin `bool`. To silence this warning, use `bool` by itself. Doing this will not modify any behavior and is safe. If you specifically wanted the numpy scalar type, use `np.bool_` here.\n",
      "Deprecated in NumPy 1.20; for more details and guidance: https://numpy.org/devdocs/release/1.20.0-notes.html#deprecations\n",
      "  SA = np.array(f.variables['SA'])\n",
      "<ipython-input-11-4c3b0ab60a8c>:8: DeprecationWarning: `np.bool` is a deprecated alias for the builtin `bool`. To silence this warning, use `bool` by itself. Doing this will not modify any behavior and is safe. If you specifically wanted the numpy scalar type, use `np.bool_` here.\n",
      "Deprecated in NumPy 1.20; for more details and guidance: https://numpy.org/devdocs/release/1.20.0-notes.html#deprecations\n",
      "  SIG0 = np.array(f.variables['SIG0'])\n",
      "<ipython-input-11-4c3b0ab60a8c>:9: DeprecationWarning: `np.bool` is a deprecated alias for the builtin `bool`. To silence this warning, use `bool` by itself. Doing this will not modify any behavior and is safe. If you specifically wanted the numpy scalar type, use `np.bool_` here.\n",
      "Deprecated in NumPy 1.20; for more details and guidance: https://numpy.org/devdocs/release/1.20.0-notes.html#deprecations\n",
      "  N2 = np.array(f.variables['N2'])\n",
      "<ipython-input-11-4c3b0ab60a8c>:10: DeprecationWarning: `np.bool` is a deprecated alias for the builtin `bool`. To silence this warning, use `bool` by itself. Doing this will not modify any behavior and is safe. If you specifically wanted the numpy scalar type, use `np.bool_` here.\n",
      "Deprecated in NumPy 1.20; for more details and guidance: https://numpy.org/devdocs/release/1.20.0-notes.html#deprecations\n",
      "  N22 = np.array(f.variables['N22'])\n"
     ]
    }
   ],
   "source": [
    "P = np.array(f.variables['P'])\n",
    "D = np.array(f.variables['D'])\n",
    "T = np.array(f.variables['T'])\n",
    "C = np.array(f.variables['C'])\n",
    "S = np.array(f.variables['S'])\n",
    "CT = np.array(f.variables['CT'])\n",
    "SA = np.array(f.variables['SA'])\n",
    "SIG0 = np.array(f.variables['SIG0'])\n",
    "N2 = np.array(f.variables['N2'])\n",
    "N22 = np.array(f.variables['N22'])"
   ]
  },
  {
   "cell_type": "code",
   "execution_count": 10,
   "id": "eb1c54b6-a8b1-47b3-8ca8-0639a5761a20",
   "metadata": {},
   "outputs": [
    {
     "name": "stderr",
     "output_type": "stream",
     "text": [
      "<ipython-input-10-23a2cbd2b8ab>:1: DeprecationWarning: `np.bool` is a deprecated alias for the builtin `bool`. To silence this warning, use `bool` by itself. Doing this will not modify any behavior and is safe. If you specifically wanted the numpy scalar type, use `np.bool_` here.\n",
      "Deprecated in NumPy 1.20; for more details and guidance: https://numpy.org/devdocs/release/1.20.0-notes.html#deprecations\n",
      "  U = np.array(f.variables['U'])\n",
      "<ipython-input-10-23a2cbd2b8ab>:2: DeprecationWarning: `np.bool` is a deprecated alias for the builtin `bool`. To silence this warning, use `bool` by itself. Doing this will not modify any behavior and is safe. If you specifically wanted the numpy scalar type, use `np.bool_` here.\n",
      "Deprecated in NumPy 1.20; for more details and guidance: https://numpy.org/devdocs/release/1.20.0-notes.html#deprecations\n",
      "  V = np.array(f.variables['V'])\n",
      "<ipython-input-10-23a2cbd2b8ab>:3: DeprecationWarning: `np.bool` is a deprecated alias for the builtin `bool`. To silence this warning, use `bool` by itself. Doing this will not modify any behavior and is safe. If you specifically wanted the numpy scalar type, use `np.bool_` here.\n",
      "Deprecated in NumPy 1.20; for more details and guidance: https://numpy.org/devdocs/release/1.20.0-notes.html#deprecations\n",
      "  Uerr = np.array(f.variables['Uerr'])\n",
      "<ipython-input-10-23a2cbd2b8ab>:4: DeprecationWarning: `np.bool` is a deprecated alias for the builtin `bool`. To silence this warning, use `bool` by itself. Doing this will not modify any behavior and is safe. If you specifically wanted the numpy scalar type, use `np.bool_` here.\n",
      "Deprecated in NumPy 1.20; for more details and guidance: https://numpy.org/devdocs/release/1.20.0-notes.html#deprecations\n",
      "  Ubot = np.array(f.variables['Ubot'])\n",
      "<ipython-input-10-23a2cbd2b8ab>:5: DeprecationWarning: `np.bool` is a deprecated alias for the builtin `bool`. To silence this warning, use `bool` by itself. Doing this will not modify any behavior and is safe. If you specifically wanted the numpy scalar type, use `np.bool_` here.\n",
      "Deprecated in NumPy 1.20; for more details and guidance: https://numpy.org/devdocs/release/1.20.0-notes.html#deprecations\n",
      "  Vbot = np.array(f.variables['Ubot'])\n",
      "<ipython-input-10-23a2cbd2b8ab>:6: DeprecationWarning: `np.bool` is a deprecated alias for the builtin `bool`. To silence this warning, use `bool` by itself. Doing this will not modify any behavior and is safe. If you specifically wanted the numpy scalar type, use `np.bool_` here.\n",
      "Deprecated in NumPy 1.20; for more details and guidance: https://numpy.org/devdocs/release/1.20.0-notes.html#deprecations\n",
      "  Uerrbot = np.array(f.variables['Uerrbot'])\n"
     ]
    }
   ],
   "source": [
    "U = np.array(f.variables['U'])\n",
    "V = np.array(f.variables['V'])\n",
    "Uerr = np.array(f.variables['Uerr'])\n",
    "Ubot = np.array(f.variables['Ubot'])\n",
    "Vbot = np.array(f.variables['Ubot'])\n",
    "Uerrbot = np.array(f.variables['Uerrbot'])"
   ]
  },
  {
   "cell_type": "code",
   "execution_count": 13,
   "id": "e85c1873-fa49-4459-966c-e46adc13550a",
   "metadata": {},
   "outputs": [],
   "source": [
    "f.close()"
   ]
  },
  {
   "cell_type": "code",
   "execution_count": null,
   "id": "780e816a-e67b-4b97-93c1-ddd80bf83d1b",
   "metadata": {},
   "outputs": [],
   "source": [
    "lon_ctd = lon\n",
    "lat_ctd = lat"
   ]
  }
 ],
 "metadata": {
  "kernelspec": {
   "display_name": "Python 3",
   "language": "python",
   "name": "python3"
  },
  "language_info": {
   "codemirror_mode": {
    "name": "ipython",
    "version": 3
   },
   "file_extension": ".py",
   "mimetype": "text/x-python",
   "name": "python",
   "nbconvert_exporter": "python",
   "pygments_lexer": "ipython3",
   "version": "3.8.5"
  }
 },
 "nbformat": 4,
 "nbformat_minor": 5
}
